{
  "nbformat": 4,
  "nbformat_minor": 0,
  "metadata": {
    "colab": {
      "name": "3. Listas Doblemente Enlazadas.ipynb",
      "provenance": [],
      "collapsed_sections": [],
      "authorship_tag": "ABX9TyNSUMb1kmoQo5tKjCpet5Ln"
    },
    "kernelspec": {
      "name": "python3",
      "display_name": "Python 3"
    },
    "language_info": {
      "name": "python"
    }
  },
  "cells": [
    {
      "cell_type": "markdown",
      "metadata": {
        "id": "107d9Us8vQl1"
      },
      "source": [
        "**Listas Doblemente Enlazadas**"
      ]
    },
    {
      "cell_type": "markdown",
      "metadata": {
        "id": "WT8umG2uvUAU"
      },
      "source": [
        "Definicion de la clase Estudiante"
      ]
    },
    {
      "cell_type": "code",
      "metadata": {
        "id": "I2LjGhtivYKc"
      },
      "source": [
        "class estudiante:\n",
        "  def __init__(self, carne, nombre, edad, direccion, telefono, email, carrera, puesto):\n",
        "    self.carne = carne\n",
        "    self.nombre = nombre\n",
        "    self.edad = edad\n",
        "    self.direccion = direccion\n",
        "    self.telefono = telefono\n",
        "    self.email = email\n",
        "    self.carrera = carrera\n",
        "    self.puesto = puesto"
      ],
      "execution_count": 17,
      "outputs": []
    },
    {
      "cell_type": "markdown",
      "metadata": {
        "id": "ms1n9o6Rzlzt"
      },
      "source": [
        "**Definicion de clase Nodo**"
      ]
    },
    {
      "cell_type": "code",
      "metadata": {
        "id": "jXjSZgOsz1GU"
      },
      "source": [
        "class nodo:\n",
        "  def __init__(self, estudiante = None, siguiente = None, anterior = None):\n",
        "    self.estudiante = estudiante\n",
        "    self.siguiente = siguiente\n",
        "    self.anterior = anterior"
      ],
      "execution_count": 18,
      "outputs": []
    },
    {
      "cell_type": "markdown",
      "metadata": {
        "id": "cM2aCheM0IJM"
      },
      "source": [
        "**Definicion de la clase Lista Doblemente Enlazada**"
      ]
    },
    {
      "cell_type": "code",
      "metadata": {
        "id": "9FFmr3LA0M9k"
      },
      "source": [
        "class lista_doble:\n",
        "  def __init__(self):\n",
        "    self.primero = None\n",
        "  \n",
        "  def insertar(self, estudiante):\n",
        "    if self.primero is None:\n",
        "      self.primero = nodo(estudiante = estudiante)\n",
        "    else:\n",
        "      actual = nodo(estudiante, siguiente = self.primero)\n",
        "      self.primero.anterior = actual\n",
        "      self.primero = actual\n",
        "    \n",
        "  def recorrer(self):\n",
        "    if self.primero is None:\n",
        "      return\n",
        "    \n",
        "    actual = self.primero\n",
        "    print(f'Carne: {actual.estudiante.carne}, Nombre: {actual.estudiante.nombre}, Email {actual.estudiante.email} ->')\n",
        "    while actual.siguiente != None:\n",
        "      actual = actual.siguiente\n",
        "      print(f'Carne: {actual.estudiante.carne}, Nombre: {actual.estudiante.nombre}, Email {actual.estudiante.email} ->')\n",
        "  \n",
        "  def eliminar(self, carne):\n",
        "    actual = self.primero\n",
        "    while actual:\n",
        "      if actual.estudiante.carne == carne:\n",
        "        if actual.anterior:\n",
        "          if actual.siguiente:\n",
        "            actual.anterior.siguiente = actual.siguiente\n",
        "            actual.siguiente.anterior = actual.anterior\n",
        "          else:\n",
        "            actual.anterior.siguiente = None\n",
        "            actual.anterior = None\n",
        "        else:\n",
        "          if actual.siguiente:\n",
        "            self.primero = actual.siguiente\n",
        "            actual.siguiente.anterior = None\n",
        "          else:\n",
        "            self.primero = None\n",
        "        return True\n",
        "      else:\n",
        "        actual = actual.siguiente\n",
        "    return False\n",
        "  \n",
        "  def buscar(self, carne):\n",
        "    actual = self.primero\n",
        "    while actual:\n",
        "      if actual.estudiante.carne == carne:\n",
        "        print(f'Carne: {actual.estudiante.carne}, Nombre: {actual.estudiante.nombre}, Email {actual.estudiante.email}')\n",
        "        break\n",
        "      else:\n",
        "        actual = actual.siguiente\n"
      ],
      "execution_count": 35,
      "outputs": []
    },
    {
      "cell_type": "markdown",
      "metadata": {
        "id": "iKSt3c-N2RBl"
      },
      "source": [
        "**Crecion de Objetos Estudiante**"
      ]
    },
    {
      "cell_type": "code",
      "metadata": {
        "id": "wV3q0oCs2Thd"
      },
      "source": [
        "e1 = estudiante(201915050,'Gerson Ortiz',20,'9 calle 10-02 zona 1',24400101,'gerson.ortiz@gmail.com','Ingenieria en Sistemas','Programador Jr')\n",
        "e2 = estudiante(201915060,'Karen Hurtarte',21,'7 calle 10-02 zona 1',24400182,'karen.hurtarte@gmail.com','Ingenieria en Sistemas','Programador Jr')\n",
        "e3 = estudiante(201915061,'Luis Mendez',22,'8 calle 10-02 zona 1',24403183,'luis.mendez@gmail.com','Ingenieria en Sistemas','Programador Jr')"
      ],
      "execution_count": 36,
      "outputs": []
    },
    {
      "cell_type": "markdown",
      "metadata": {
        "id": "OoULyeb92X-d"
      },
      "source": [
        "**Insercion**"
      ]
    },
    {
      "cell_type": "code",
      "metadata": {
        "id": "hv501CeZ2ZUE"
      },
      "source": [
        "lista_d = lista_doble()\n",
        "lista_d.insertar(e1)\n",
        "lista_d.insertar(e2)\n",
        "lista_d.insertar(e3)"
      ],
      "execution_count": 37,
      "outputs": []
    },
    {
      "cell_type": "markdown",
      "metadata": {
        "id": "eElOE-BNsPPA"
      },
      "source": [
        "**Recorrer Lista**"
      ]
    },
    {
      "cell_type": "code",
      "metadata": {
        "colab": {
          "base_uri": "https://localhost:8080/"
        },
        "id": "n7tN8rJOt7K1",
        "outputId": "edd446e4-4a2c-4b4d-9f9b-bcbd7091c6e0"
      },
      "source": [
        "lista_d.recorrer()"
      ],
      "execution_count": 38,
      "outputs": [
        {
          "output_type": "stream",
          "text": [
            "Carne: 201915061, Nombre: Luis Mendez, Email luis.mendez@gmail.com ->\n",
            "Carne: 201915060, Nombre: Karen Hurtarte, Email karen.hurtarte@gmail.com ->\n",
            "Carne: 201915050, Nombre: Gerson Ortiz, Email gerson.ortiz@gmail.com ->\n"
          ],
          "name": "stdout"
        }
      ]
    },
    {
      "cell_type": "markdown",
      "metadata": {
        "id": "bGjK1ETO7B3l"
      },
      "source": [
        "**Buscar Elemento**"
      ]
    },
    {
      "cell_type": "code",
      "metadata": {
        "colab": {
          "base_uri": "https://localhost:8080/"
        },
        "id": "a57X3CrR7D7q",
        "outputId": "0a017789-dad9-43fd-c328-87d00d274b6c"
      },
      "source": [
        "lista_d.buscar(201915060)"
      ],
      "execution_count": 39,
      "outputs": [
        {
          "output_type": "stream",
          "text": [
            "Carne: 201915060, Nombre: Karen Hurtarte, Email karen.hurtarte@gmail.com\n"
          ],
          "name": "stdout"
        }
      ]
    },
    {
      "cell_type": "markdown",
      "metadata": {
        "id": "ov85re_o5C-g"
      },
      "source": [
        "**Eliminar nodo a nodo de la lista**"
      ]
    },
    {
      "cell_type": "code",
      "metadata": {
        "colab": {
          "base_uri": "https://localhost:8080/"
        },
        "id": "rM69RS5NuStm",
        "outputId": "82c06d30-d9f6-49f4-9a0f-08ec951e694f"
      },
      "source": [
        "lista_d.eliminar(201915061)\n",
        "lista_d.recorrer()"
      ],
      "execution_count": 27,
      "outputs": [
        {
          "output_type": "stream",
          "text": [
            "Carne: 201915060, Nombre: Karen Hurtarte, Email karen.hurtarte@gmail.com ->\n",
            "Carne: 201915050, Nombre: Gerson Ortiz, Email gerson.ortiz@gmail.com ->\n"
          ],
          "name": "stdout"
        }
      ]
    },
    {
      "cell_type": "code",
      "metadata": {
        "colab": {
          "base_uri": "https://localhost:8080/"
        },
        "id": "LPkZ4IWn5GW9",
        "outputId": "29e11c4c-d422-4531-8337-f28011c4fd0a"
      },
      "source": [
        "lista_d.eliminar(201915060)\n",
        "lista_d.recorrer()"
      ],
      "execution_count": 28,
      "outputs": [
        {
          "output_type": "stream",
          "text": [
            "Carne: 201915050, Nombre: Gerson Ortiz, Email gerson.ortiz@gmail.com ->\n"
          ],
          "name": "stdout"
        }
      ]
    },
    {
      "cell_type": "code",
      "metadata": {
        "id": "nahXv78f5WqX"
      },
      "source": [
        "lista_d.eliminar(201915050)\n",
        "lista_d.recorrer()"
      ],
      "execution_count": 29,
      "outputs": []
    }
  ]
}