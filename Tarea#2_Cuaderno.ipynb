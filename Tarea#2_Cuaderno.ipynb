{
  "nbformat": 4,
  "nbformat_minor": 0,
  "metadata": {
    "colab": {
      "name": "2. Listas Circulares.ipynb",
      "provenance": [],
      "collapsed_sections": [],
      "authorship_tag": "ABX9TyNBrQcjUAz/ojjfvCO0SrI/"
    },
    "kernelspec": {
      "name": "python3",
      "display_name": "Python 3"
    },
    "language_info": {
      "name": "python"
    }
  },
  "cells": [
    {
      "cell_type": "code",
      "metadata": {
        "id": "ydBN1KuMzASZ"
      },
      "source": [
        "class estudiante:\n",
        "  def __init__(self,carne,nombre,edad,direccion,telefono,email,carrera,puesto):\n",
        "    self.carne = carne\n",
        "    self.nombre = nombre\n",
        "    self.edad = edad\n",
        "    self.direccion = direccion\n",
        "    self.telefono = telefono\n",
        "    self.email = email\n",
        "    self.carrera = carrera\n",
        "    self.puesto = puesto"
      ],
      "execution_count": 18,
      "outputs": []
    },
    {
      "cell_type": "code",
      "metadata": {
        "id": "ZJ8GqEKO1jR7"
      },
      "source": [
        " class nodo:\n",
        "  def __init__(self, estudiante = None, siguiente = None):\n",
        "    self.estudiante = estudiante\n",
        "    self.siguiente = siguiente"
      ],
      "execution_count": 19,
      "outputs": []
    },
    {
      "cell_type": "code",
      "metadata": {
        "id": "goYrPojr1v8W"
      },
      "source": [
        "class lista_circular:\n",
        "  def __init__(self):\n",
        "    self.primero = None\n",
        "\n",
        "  def insertar(self, estudiante):\n",
        "    if self.primero is None:\n",
        "      self.primero = nodo(estudiante = estudiante)\n",
        "      self.primero.siguiente = self.primero\n",
        "    else:\n",
        "      actual = nodo(estudiante = estudiante, siguiente = self.primero.siguiente)\n",
        "      self.primero.siguiente = actual\n",
        "  \n",
        "  def recorrer(self):\n",
        "    if self.primero is None:\n",
        "      return\n",
        "    actual = self.primero\n",
        "    print(f'Carne: {actual.estudiante.carne}, Nombre: {actual.estudiante.nombre}, Email: {actual.estudiante.email} -->')  \n",
        "    while actual.siguiente != self.primero:\n",
        "      actual = actual.siguiente\n",
        "      print(f'Carne: {actual.estudiante.carne}, Nombre: {actual.estudiante.nombre}, Email: {actual.estudiante.email} -->')\n",
        "\n",
        "  def eliminar(self, carne):\n",
        "    actual = self.primero\n",
        "    anterior = None\n",
        "    no_encontrado = False\n",
        "    while actual and actual.estudiante.carne != carne:\n",
        "      anterior = actual\n",
        "      actual = actual.siguiente\n",
        "      if actual == self.primero:\n",
        "        no_encontrado = True\n",
        "        break\n",
        "\n",
        "    if not no_encontrado:\n",
        "      if anterior is not None:\n",
        "        anterior.siguiente = actual.siguiente\n",
        "      else:\n",
        "        while actual.siguiente != self.primero:\n",
        "          actual = actual.siguiente\n",
        "        actual.siguiente = self.primero.siguiente\n",
        "        self.primero = self.primero.siguiente \n",
        "    else:\n",
        "      print('Elemento no encontrado')\n",
        "\n",
        "  def buscar(self, carne):\n",
        "    actual = self.primero\n",
        "    anterior = None\n",
        "    no_encontrado = False\n",
        "    while actual and actual.estudiante.carne != carne:\n",
        "      anterior = actual\n",
        "      actual = actual.siguiente\n",
        "      if actual == self.primero:\n",
        "        no_encontrado = True\n",
        "        break\n",
        "    if not no_encontrado:\n",
        "      print(f'Carne: {actual.estudiante.carne}, Nombre: {actual.estudiante.nombre}, Email: {actual.estudiante.email} -->')  \n",
        "    else:\n",
        "      print('Elemento no encontrado')\n",
        "\n"
      ],
      "execution_count": 44,
      "outputs": []
    },
    {
      "cell_type": "markdown",
      "metadata": {
        "id": "bMx6al8u9-qL"
      },
      "source": [
        "**Crecion de Objetos Estudiante**"
      ]
    },
    {
      "cell_type": "code",
      "metadata": {
        "id": "InEWuXZ8-DcL"
      },
      "source": [
        "e1 = estudiante(201915050,'Gerson Ortiz',20,'9 calle 10-02 zona 1',24400101,'gerson.ortiz@gmail.com','Ingenieria en Sistemas','Programador Jr')\n",
        "e2 = estudiante(201915060,'Karen Hurtarte',21,'7 calle 10-02 zona 1',24400182,'karen.hurtarte@gmail.com','Ingenieria en Sistemas','Programador Jr')\n",
        "e3 = estudiante(201915061,'Luis Mendez',22,'8 calle 10-02 zona 1',24403183,'luis.mendez@gmail.com','Ingenieria en Sistemas','Programador Jr')"
      ],
      "execution_count": 45,
      "outputs": []
    },
    {
      "cell_type": "markdown",
      "metadata": {
        "id": "9zsCi7G2-WUb"
      },
      "source": [
        "**Insercion**"
      ]
    },
    {
      "cell_type": "code",
      "metadata": {
        "id": "1QvhF8CPAahV"
      },
      "source": [
        "lista_c = lista_circular()\n",
        "lista_c.insertar(e1)\n",
        "lista_c.insertar(e2)\n",
        "lista_c.insertar(e3)"
      ],
      "execution_count": 46,
      "outputs": []
    },
    {
      "cell_type": "markdown",
      "metadata": {
        "id": "939p9ua67YxQ"
      },
      "source": [
        "**Recorrer**"
      ]
    },
    {
      "cell_type": "code",
      "metadata": {
        "colab": {
          "base_uri": "https://localhost:8080/"
        },
        "id": "x6Un0MAs7dlS",
        "outputId": "42f0960d-ced6-474a-84dc-0c6ce07ec3fa"
      },
      "source": [
        "lista_c.recorrer()"
      ],
      "execution_count": 47,
      "outputs": [
        {
          "output_type": "stream",
          "text": [
            "Carne: 201915050, Nombre: Gerson Ortiz, Email: gerson.ortiz@gmail.com -->\n",
            "Carne: 201915061, Nombre: Luis Mendez, Email: luis.mendez@gmail.com -->\n",
            "Carne: 201915060, Nombre: Karen Hurtarte, Email: karen.hurtarte@gmail.com -->\n"
          ],
          "name": "stdout"
        }
      ]
    },
    {
      "cell_type": "markdown",
      "metadata": {
        "id": "iGQGybVz8pLh"
      },
      "source": [
        "**Eliminar un nodo de la lista**"
      ]
    },
    {
      "cell_type": "code",
      "metadata": {
        "colab": {
          "base_uri": "https://localhost:8080/"
        },
        "id": "fF0emHUD8rfQ",
        "outputId": "eb7784ee-73ab-460c-a1cd-e08454959fb9"
      },
      "source": [
        "lista_c.eliminar(2019150645)\n",
        "lista_c.recorrer()"
      ],
      "execution_count": 48,
      "outputs": [
        {
          "output_type": "stream",
          "text": [
            "Elemento no encontrado\n",
            "Carne: 201915050, Nombre: Gerson Ortiz, Email: gerson.ortiz@gmail.com -->\n",
            "Carne: 201915061, Nombre: Luis Mendez, Email: luis.mendez@gmail.com -->\n",
            "Carne: 201915060, Nombre: Karen Hurtarte, Email: karen.hurtarte@gmail.com -->\n"
          ],
          "name": "stdout"
        }
      ]
    },
    {
      "cell_type": "markdown",
      "metadata": {
        "id": "Jx6l1wfi_QDK"
      },
      "source": [
        "**Buscar un elemento de la lista**"
      ]
    },
    {
      "cell_type": "code",
      "metadata": {
        "colab": {
          "base_uri": "https://localhost:8080/"
        },
        "id": "VEK0pkSw_U15",
        "outputId": "e136671d-5a88-4f7b-dcca-009d5c170391"
      },
      "source": [
        "lista_c.buscar(201915060)"
      ],
      "execution_count": 49,
      "outputs": [
        {
          "output_type": "stream",
          "text": [
            "Carne: 201915060, Nombre: Karen Hurtarte, Email: karen.hurtarte@gmail.com -->\n"
          ],
          "name": "stdout"
        }
      ]
    },
    {
      "cell_type": "code",
      "metadata": {
        "colab": {
          "base_uri": "https://localhost:8080/"
        },
        "id": "empAs8OA_z4i",
        "outputId": "31d26b9d-8e5d-418f-9275-6604cd0b3ba9"
      },
      "source": [
        "lista_c.buscar(20191504560)"
      ],
      "execution_count": 50,
      "outputs": [
        {
          "output_type": "stream",
          "text": [
            "Elemento no encontrado\n"
          ],
          "name": "stdout"
        }
      ]
    }
  ]
}