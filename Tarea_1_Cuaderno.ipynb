{
  "nbformat": 4,
  "nbformat_minor": 0,
  "metadata": {
    "colab": {
      "name": "1.Listas enlazadas.ipynb",
      "provenance": [],
      "collapsed_sections": [],
      "authorship_tag": "ABX9TyPp0JDogyGLyUcb8ppgUoEr",
      "include_colab_link": true
    },
    "kernelspec": {
      "name": "python3",
      "display_name": "Python 3"
    },
    "language_info": {
      "name": "python"
    }
  },
  "cells": [
    {
      "cell_type": "markdown",
      "metadata": {
        "id": "view-in-github",
        "colab_type": "text"
      },
      "source": [
        "<a href=\"https://colab.research.google.com/github/KevoXx/Tareas-IPC2/blob/main/Tarea_1_Cuaderno.ipynb\" target=\"_parent\"><img src=\"https://colab.research.google.com/assets/colab-badge.svg\" alt=\"Open In Colab\"/></a>"
      ]
    },
    {
      "cell_type": "markdown",
      "metadata": {
        "id": "x8jiUINfnU6c"
      },
      "source": [
        "**Listas Enlazadas**"
      ]
    },
    {
      "cell_type": "markdown",
      "metadata": {
        "id": "bTQL9u48nZbM"
      },
      "source": [
        "Definicion de la clase Estudiante"
      ]
    },
    {
      "cell_type": "code",
      "metadata": {
        "id": "pqpS9ShGnccs"
      },
      "source": [
        "class estudiante:\n",
        "  def __init__(self, carne, nombre, edad , direccion, telefono, email, carrera, puesto):\n",
        "    self.carne = carne\n",
        "    self.nombre = nombre\n",
        "    self.edad = edad\n",
        "    self.direccion = direccion\n",
        "    self.telefono = telefono\n",
        "    self.email = email\n",
        "    self.carrera = carrera\n",
        "    self.puesto = puesto"
      ],
      "execution_count": 40,
      "outputs": []
    },
    {
      "cell_type": "markdown",
      "metadata": {
        "id": "0CYUaTCdobkG"
      },
      "source": [
        "**Definicion de la clase Nodo**"
      ]
    },
    {
      "cell_type": "code",
      "metadata": {
        "id": "iJ2atrR5ol7M"
      },
      "source": [
        "class nodo:\n",
        "  def __init__(self, estudiante=None , siguiente=None):\n",
        "    self.estudiante = estudiante\n",
        "    self.siguiente = siguiente"
      ],
      "execution_count": 41,
      "outputs": []
    },
    {
      "cell_type": "markdown",
      "metadata": {
        "id": "O-O5sCycquZT"
      },
      "source": [
        "**Definicion de la clase Lista Enlazada**"
      ]
    },
    {
      "cell_type": "code",
      "metadata": {
        "id": "eg3sp9Teqzdt"
      },
      "source": [
        "class lista_enlazada:\n",
        "  def __init__(self):\n",
        "    self.primero = None\n",
        "  \n",
        "  def insertar(self, estudiante):\n",
        "    if self.primero == None:\n",
        "      self.primero = nodo(estudiante = estudiante)\n",
        "      return\n",
        "    actual = self.primero\n",
        "    while actual.siguiente != None:\n",
        "      actual = actual.siguiente\n",
        "    actual.siguiente = nodo(estudiante = estudiante)\n",
        "\n",
        "  def recorrer(self):\n",
        "    actual = self.primero\n",
        "    while actual != None:\n",
        "      print(f'Carne:{actual.estudiante.carne}, Nombre: {actual.estudiante.nombre}' )\n",
        "      actual = actual.siguiente \n",
        "\n",
        "  def eliminar(self, carne):\n",
        "    actual = self.primero\n",
        "    anterior = None\n",
        "\n",
        "    while actual and actual.estudiante.carne != carne:\n",
        "      anterior = actual\n",
        "      actual = actual.siguiente\n",
        "\n",
        "    if anterior is None:\n",
        "      self.primero = actual.siguiente\n",
        "    elif actual:\n",
        "      anterior.siguiente = actual.siguiente\n",
        "      actual.siguitente = None\n",
        "      \n",
        "  def buscar(self, carne):\n",
        "    actual = self.primero\n",
        "    encontrado = False\n",
        "    while actual != None:\n",
        "      if actual.estudiante.carne == carne:\n",
        "        print('Se ha encontrado al estudiante')\n",
        "        print(f'Carne:{actual.estudiante.carne}, Nombre: {actual.estudiante.nombre}, Edad: {actual.estudiante.edad}, Direccion: {actual.estudiante.direccion}, Telefono: {actual.estudiante.telefono}, Email: {actual.estudiante.email}, Carrera{actual.estudiante.carrera}, Puesto: {actual.estudiante.puesto}' )\n",
        "        encontrado = True\n",
        "        break\n",
        "      actual = actual.siguiente \n",
        "\n",
        "    if encontrado == False:\n",
        "      print('No se ha encontrado al estudiante...')\n",
        "\n"
      ],
      "execution_count": 55,
      "outputs": []
    },
    {
      "cell_type": "markdown",
      "metadata": {
        "id": "H0ERrX7J8pu2"
      },
      "source": [
        "**Crecion Estudiante**"
      ]
    },
    {
      "cell_type": "code",
      "metadata": {
        "id": "6r4tCUSe8r-7"
      },
      "source": [
        "e1 = estudiante(212346546,'Gerson Ortiz', 20 , '9 calle 10-02 zona 1',244506, 'gerson.ortiz@gmail.com','ingenieria en sistemas', 'Programador Jr')\n",
        "e2 = estudiante(212346547,'Josue Perez', 19 , '9 calle 11-45 zona 12',244507, 'josue.perez@gmail.com','ingenieria en sistemas', 'Programador Jr')\n",
        "e3 = estudiante(212346548,'Albert amilcar', 21 , '1 calle 14-02 zona 3',244506, 'albert.amilcar@gmail.com','ingenieria en sistemas', 'Programador Jr')"
      ],
      "execution_count": 56,
      "outputs": []
    },
    {
      "cell_type": "markdown",
      "metadata": {
        "id": "jAtlfDPh90H-"
      },
      "source": [
        "**Insercion**"
      ]
    },
    {
      "cell_type": "code",
      "metadata": {
        "id": "lWlWqejk92ry"
      },
      "source": [
        "lista_e = lista_enlazada()\n",
        "lista_e.insertar(e1)\n",
        "lista_e.insertar(e2)\n",
        "lista_e.insertar(e3)"
      ],
      "execution_count": 57,
      "outputs": []
    },
    {
      "cell_type": "markdown",
      "metadata": {
        "id": "BUTWW1rVAGcU"
      },
      "source": [
        "**Recorrer la Lista**"
      ]
    },
    {
      "cell_type": "code",
      "metadata": {
        "colab": {
          "base_uri": "https://localhost:8080/"
        },
        "id": "Lm-7hW2uAKOs",
        "outputId": "d0d5ccb1-6b3b-4ddf-9b2b-9c8bc68780a2"
      },
      "source": [
        "lista_e.recorrer()"
      ],
      "execution_count": 58,
      "outputs": [
        {
          "output_type": "stream",
          "text": [
            "Carne:212346546, Nombre: Gerson Ortiz\n",
            "Carne:212346547, Nombre: Josue Perez\n",
            "Carne:212346548, Nombre: Albert amilcar\n"
          ],
          "name": "stdout"
        }
      ]
    },
    {
      "cell_type": "markdown",
      "metadata": {
        "id": "wIKvZ3ayxA4h"
      },
      "source": [
        "**Eliminar Elemento**"
      ]
    },
    {
      "cell_type": "code",
      "metadata": {
        "colab": {
          "base_uri": "https://localhost:8080/"
        },
        "id": "gbJkRonlxGN4",
        "outputId": "1e4cbb7e-c907-40b3-db37-d9aff928e318"
      },
      "source": [
        "lista_e.eliminar(212346547)\n",
        "lista_e.recorrer()"
      ],
      "execution_count": 59,
      "outputs": [
        {
          "output_type": "stream",
          "text": [
            "Carne:212346546, Nombre: Gerson Ortiz\n",
            "Carne:212346548, Nombre: Albert amilcar\n"
          ],
          "name": "stdout"
        }
      ]
    },
    {
      "cell_type": "markdown",
      "metadata": {
        "id": "ECrJS-CbxJMp"
      },
      "source": [
        "**Buscar Elemento**"
      ]
    },
    {
      "cell_type": "code",
      "metadata": {
        "colab": {
          "base_uri": "https://localhost:8080/"
        },
        "id": "MobtZg-DxMp5",
        "outputId": "a134f199-3bea-4c4e-9cb3-cdf0d1ae7e0f"
      },
      "source": [
        "lista_e.buscar(1)\n",
        "lista_e.buscar(212346548)"
      ],
      "execution_count": 61,
      "outputs": [
        {
          "output_type": "stream",
          "text": [
            "No se ha encontrado al estudiante...\n",
            "Se ha encontrado al estudiante\n",
            "Carne:212346548, Nombre: Albert amilcar, Edad: 21, Direccion: 1 calle 14-02 zona 3, Telefono: 244506, Email: albert.amilcar@gmail.com, Carreraingenieria en sistemas, Puesto: Programador Jr\n"
          ],
          "name": "stdout"
        }
      ]
    }
  ]
}